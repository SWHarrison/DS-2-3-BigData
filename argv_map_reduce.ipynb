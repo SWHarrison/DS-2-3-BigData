{
 "cells": [
  {
   "cell_type": "code",
   "execution_count": 1,
   "metadata": {},
   "outputs": [],
   "source": [
    "# empCount is a class variable\n",
    "class Employee:\n",
    "    'Common base class for all employees'\n",
    "    empCount = 0\n",
    "\n",
    "    def __init__(self, name, salary):\n",
    "        self.name = name\n",
    "        self.salary = salary\n",
    "        Employee.empCount += 1\n",
    "\n",
    "    def displayCount(self):\n",
    "        print(\"Total Employee %d\" % Employee.empCount)\n",
    "\n",
    "    def displayEmployee(self):\n",
    "        print(\"Name : \", self.name, \", Salary: \", self.salary)"
   ]
  },
  {
   "cell_type": "code",
   "execution_count": 2,
   "metadata": {},
   "outputs": [
    {
     "name": "stdout",
     "output_type": "stream",
     "text": [
      "Total Employee 2\n"
     ]
    }
   ],
   "source": [
    "# \"This would create first object of Employee class\"\n",
    "emp1 = Employee(\"Zara\", 2000)\n",
    "# \"This would create second object of Employee class\"\n",
    "emp2 = Employee(\"Manni\", 5000)\n",
    "print(\"Total Employee %d\" % Employee.empCount)"
   ]
  },
  {
   "cell_type": "code",
   "execution_count": 3,
   "metadata": {},
   "outputs": [
    {
     "name": "stdout",
     "output_type": "stream",
     "text": [
      "0\n",
      "1\n"
     ]
    }
   ],
   "source": [
    "class Employee:\n",
    "    'Common base class for all employees'\n",
    "    empCount = 0\n",
    "\n",
    "    def __init__(self, name, salary):\n",
    "        self.name = name\n",
    "        self.salary = salary\n",
    "        self.empCount += 1\n",
    "\n",
    "    def displayCount(self):\n",
    "        print(\"Total Employee %d\" % self.empCount)\n",
    "\n",
    "    def displayEmployee(self):\n",
    "        print(\"Name : \", self.name, \", Salary: \", self.salary)\n",
    "\n",
    "\n",
    "# \"This would create first object of Employee class\"\n",
    "emp1 = Employee(\"Zara\", 2000)\n",
    "# \"This would create second object of Employee class\"\n",
    "emp2 = Employee(\"Manni\", 5000)\n",
    "\n",
    "print(Employee.empCount)\n",
    "print(emp1.empCount)"
   ]
  },
  {
   "cell_type": "code",
   "execution_count": 6,
   "metadata": {},
   "outputs": [
    {
     "name": "stdout",
     "output_type": "stream",
     "text": [
      "[1.0, 1.5, 1.4167, 1.4142]\n",
      "1\n",
      "1.5\n",
      "1.4166666666666665\n",
      "1.4142156862745097\n"
     ]
    }
   ],
   "source": [
    "def next_(n, x):\n",
    "    return (x+n/x)/2\n",
    "\n",
    "n= 2\n",
    "f= lambda x: next_(n, x)\n",
    "a0= 1.0\n",
    "print([round(x, 4) for x in (a0, f(a0), f(f(a0)), f(f(f(a0))))])\n",
    "\n",
    "m = 4\n",
    "def repeat(f, a):\n",
    "    \n",
    "    global m\n",
    "    for _ in range(m):\n",
    "        yield a\n",
    "        a = f(a)\n",
    "        \n",
    "for i in repeat(f, 1):\n",
    "    print(i)"
   ]
  },
  {
   "cell_type": "code",
   "execution_count": 1,
   "metadata": {},
   "outputs": [
    {
     "name": "stdout",
     "output_type": "stream",
     "text": [
      "2\n",
      "adding One\n",
      "3\n"
     ]
    }
   ],
   "source": [
    "def addOne(myFunc):\n",
    "    def addOneInside(x):\n",
    "        print(\"adding One\")\n",
    "        return myFunc(x) + 1\n",
    "    return addOneInside\n",
    "\n",
    "def subThree(x):\n",
    "    return x - 3\n",
    "\n",
    "result = addOne(subThree)\n",
    "print(subThree(5))\n",
    "print(result(5))"
   ]
  },
  {
   "cell_type": "code",
   "execution_count": 2,
   "metadata": {},
   "outputs": [
    {
     "name": "stdout",
     "output_type": "stream",
     "text": [
      "adding One\n",
      "3\n"
     ]
    }
   ],
   "source": [
    "@addOne\n",
    "def subThree(x):\n",
    "    return x - 3\n",
    "\n",
    "print(subThree(5))"
   ]
  },
  {
   "cell_type": "markdown",
   "metadata": {},
   "source": [
    "## Bad example of using helper/dectorator, note the 2nd to last line"
   ]
  },
  {
   "cell_type": "code",
   "execution_count": 3,
   "metadata": {},
   "outputs": [
    {
     "name": "stdout",
     "output_type": "stream",
     "text": [
      "102334155\n"
     ]
    }
   ],
   "source": [
    "def memoize(f):\n",
    "    memo = {}\n",
    "    def helper(x):\n",
    "        if x not in memo:            \n",
    "            memo[x] = f(x)\n",
    "        return memo[x]\n",
    "    return helper\n",
    "    \n",
    "\n",
    "def fib(n):\n",
    "    if n == 0:\n",
    "        return 0\n",
    "    elif n == 1:\n",
    "        return 1\n",
    "    else:\n",
    "        return fib(n-1) + fib(n-2)\n",
    "\n",
    "result = memoize(fib)\n",
    "\n",
    "print(result(40))"
   ]
  },
  {
   "cell_type": "markdown",
   "metadata": {},
   "source": [
    "## Good example of using helper/dectorator, note the 2nd to last line"
   ]
  },
  {
   "cell_type": "code",
   "execution_count": 4,
   "metadata": {},
   "outputs": [
    {
     "name": "stdout",
     "output_type": "stream",
     "text": [
      "102334155\n"
     ]
    }
   ],
   "source": [
    "def memoize(f):\n",
    "    memo = {}\n",
    "    \n",
    "    def helper(x):\n",
    "        if x not in memo:\n",
    "            memo[x] = f(x)\n",
    "        return memo[x]\n",
    "    return helper\n",
    "\n",
    "\n",
    "def fib(n):\n",
    "    if n == 0:\n",
    "        return 0\n",
    "    elif n == 1:\n",
    "        return 1\n",
    "    else:\n",
    "        return fib(n - 1) + fib(n - 2)\n",
    "\n",
    "\n",
    "fib = memoize(fib)\n",
    "\n",
    "print(fib(40))"
   ]
  },
  {
   "cell_type": "code",
   "execution_count": 5,
   "metadata": {},
   "outputs": [
    {
     "name": "stdout",
     "output_type": "stream",
     "text": [
      "102334155\n"
     ]
    }
   ],
   "source": [
    "# Same as above, but using decorator rather than helper\n",
    "@memoize\n",
    "def fib(n):\n",
    "    if n == 0:\n",
    "        return 0\n",
    "    elif n == 1:\n",
    "        return 1\n",
    "    else:\n",
    "        return fib(n - 1) + fib(n - 2)\n",
    "\n",
    "print(fib(40))"
   ]
  },
  {
   "cell_type": "code",
   "execution_count": 13,
   "metadata": {},
   "outputs": [
    {
     "name": "stdout",
     "output_type": "stream",
     "text": [
      "[3]\n",
      "[]\n",
      "[3]\n"
     ]
    }
   ],
   "source": [
    "def intersection_of_n_sets(*argv):\n",
    "    \n",
    "    if(len(argv) < 2):\n",
    "        return None\n",
    "    results = {}\n",
    "    arg_0 = argv[0]\n",
    "    # get interception of first 2 sets\n",
    "    for item in arg_0:\n",
    "        if(item in argv[1]):\n",
    "            results[item] = True\n",
    "            \n",
    "    for i in range(2,len(argv)):\n",
    "        for item in results:\n",
    "            if(item not in argv[i]):\n",
    "                results[item] = False\n",
    "                \n",
    "    to_return = []\n",
    "    for key in results:\n",
    "        if(results[key]):\n",
    "            to_return.append(key)\n",
    "            \n",
    "    print(to_return)\n",
    "    \n",
    "intersection_of_n_sets([3,4],[3,5])\n",
    "intersection_of_n_sets([3,4],[3,5],[5,7])\n",
    "intersection_of_n_sets([3,4],[3,5],[5,3],[1,2,3])\n",
    "    "
   ]
  },
  {
   "cell_type": "code",
   "execution_count": 15,
   "metadata": {},
   "outputs": [
    {
     "name": "stdout",
     "output_type": "stream",
     "text": [
      "[3]\n",
      "[]\n",
      "[3]\n"
     ]
    }
   ],
   "source": [
    "#better version of above code\n",
    "\n",
    "def intersection(*arg):\n",
    "    result = set(arg[0])\n",
    "    for i in range(1,len(arg)):\n",
    "        result = result & set(arg[i])\n",
    "        \n",
    "    return list(result)\n",
    "\n",
    "print(intersection([3,4],[3,5]))\n",
    "print(intersection([3,4],[3,5],[5,7]))\n",
    "print(intersection([3,4],[3,5],[5,3],[1,2,3]))"
   ]
  },
  {
   "cell_type": "code",
   "execution_count": 8,
   "metadata": {},
   "outputs": [
    {
     "name": "stdout",
     "output_type": "stream",
     "text": [
      "[0, 1, 4, 9, 16]\n",
      "5 9\n"
     ]
    }
   ],
   "source": [
    "def call(*argv, **kwargs):\n",
    "    def call_fn(fn):\n",
    "        return fn(*argv, **kwargs)\n",
    "    return call_fn\n",
    "  \n",
    "@call(5)\n",
    "def table(n):\n",
    "    value = []\n",
    "    for i in range(n):\n",
    "        value.append(i*i)\n",
    "    return value\n",
    "  \n",
    "#table = call(5)(table)\n",
    "print(table)\n",
    "print(len(table), table[3])"
   ]
  },
  {
   "cell_type": "code",
   "execution_count": 17,
   "metadata": {},
   "outputs": [
    {
     "name": "stdout",
     "output_type": "stream",
     "text": [
      "{3}\n"
     ]
    }
   ],
   "source": [
    "from functools import reduce\n",
    "lists = [{2,3},{3,4},{5,1,3}]\n",
    "\n",
    "intersection = reduce(lambda x, y: x & y, lists)\n",
    "print(intersection)"
   ]
  },
  {
   "cell_type": "code",
   "execution_count": 42,
   "metadata": {},
   "outputs": [
    {
     "name": "stdout",
     "output_type": "stream",
     "text": [
      "[{'Deer': 1}, {'Bear': 1}, {'River': 1}, {'Car': 1}, {'Car': 1}, {'River': 1}, {'Deer': 1}, {'Car': 1}, {'Bear': 1}]\n"
     ]
    }
   ],
   "source": [
    "words = ['Deer', 'Bear', 'River', 'Car', 'Car', 'River', 'Deer', 'Car', 'Bear']\n",
    "\n",
    "result = {}\n",
    "words = map(lambda x: {x: result[x] + 1} if x in result else {x: 1}, words)\n",
    "print(list(words))"
   ]
  },
  {
   "cell_type": "code",
   "execution_count": null,
   "metadata": {},
   "outputs": [],
   "source": []
  }
 ],
 "metadata": {
  "kernelspec": {
   "display_name": "Python 3",
   "language": "python",
   "name": "python3"
  },
  "language_info": {
   "codemirror_mode": {
    "name": "ipython",
    "version": 3
   },
   "file_extension": ".py",
   "mimetype": "text/x-python",
   "name": "python",
   "nbconvert_exporter": "python",
   "pygments_lexer": "ipython3",
   "version": "3.7.3"
  }
 },
 "nbformat": 4,
 "nbformat_minor": 2
}
